{
 "cells": [
  {
   "cell_type": "markdown",
   "id": "631b63b8-770c-4db3-82d1-dbd51a884d72",
   "metadata": {},
   "source": [
    "# EXCHANGE TRADED AU GOV TREASURY BONDS (ETBS)\n",
    "\n",
    "Note, *not* the inflation protected bonds.\n",
    "\n",
    "## LIBRARY IMPORTS"
   ]
  },
  {
   "cell_type": "code",
   "execution_count": 1,
   "id": "a1e792b0-3511-418a-824c-2651463af6e1",
   "metadata": {},
   "outputs": [],
   "source": [
    "# from functions import (\n",
    "#     etbList_AU,\n",
    "#     etbList_AU_dataset\n",
    "# )"
   ]
  },
  {
   "cell_type": "markdown",
   "id": "56141cf8-72b3-4909-9e12-19f2de22d018",
   "metadata": {},
   "source": [
    "## DATAFRAME OF CURRENTLY AVAILABLE ETBS  \n",
    "\n",
    "Uncomment and run to see list."
   ]
  },
  {
   "cell_type": "code",
   "execution_count": 2,
   "id": "8142c9c0-7920-4b22-ad05-e25b8a738c12",
   "metadata": {},
   "outputs": [],
   "source": [
    "# au_bond_etbs = etbList_AU()\n",
    "# au_bond_etbs"
   ]
  },
  {
   "cell_type": "markdown",
   "id": "f5729248-a2a5-4d38-8aff-dbf046c8cb2a",
   "metadata": {},
   "source": [
    "## DATAFRAME WITH VALUE FIELDS FILLED\n",
    "\n",
    "### HEADERS\n",
    "\n",
    "- bond yield (percent/yr);\n",
    "- bond value (AUD);\n",
    "- bond value yield (percent/yr);\n",
    "- return on `1000 AUD`, if held to maturity (AUD)\n",
    "\n",
    "Run to (re)generate dataframe with current prices."
   ]
  },
  {
   "cell_type": "code",
   "execution_count": 3,
   "id": "330e81ec-0f4d-43a5-8623-d9f79582e9e4",
   "metadata": {},
   "outputs": [],
   "source": [
    "# au_bonds_dset = etbList_AU_dataset()"
   ]
  },
  {
   "cell_type": "markdown",
   "id": "96ebc032-8b1a-4a79-a82f-33a9b4e17e0b",
   "metadata": {},
   "source": [
    "#### DISPLAY DATAFRAME"
   ]
  },
  {
   "cell_type": "code",
   "execution_count": 4,
   "id": "721e0024-5198-4fe6-a58f-04adccfc542e",
   "metadata": {},
   "outputs": [],
   "source": [
    "# au_bonds_dset"
   ]
  },
  {
   "cell_type": "markdown",
   "id": "b72b9342-7f46-4173-a83a-9aedab8bea41",
   "metadata": {},
   "source": [
    "#### DISPLAY SPECIFIC COLUMNS"
   ]
  },
  {
   "cell_type": "code",
   "execution_count": 5,
   "id": "b62f0ffd-4d5a-4e93-ba9f-3b5f9eaa8d42",
   "metadata": {},
   "outputs": [],
   "source": [
    "# columns_to_display = [\n",
    "#         'ASX_code', \n",
    "#         'bond_yield (%/yr)',\n",
    "#         'bond_value_yield (%/yr)'\n",
    "#    ] \n",
    "# au_bonds_dset[columns_to_display]"
   ]
  },
  {
   "cell_type": "markdown",
   "id": "93c5c78d-bf69-47a6-80e5-9cb818bbaea6",
   "metadata": {},
   "source": [
    "#### SORT DATAFRAME BY COLUMN HEADER"
   ]
  },
  {
   "cell_type": "code",
   "execution_count": 6,
   "id": "0d683c8f-5276-43bf-a1dc-0aaff4a99cae",
   "metadata": {},
   "outputs": [],
   "source": [
    "# column = 'bond_value (AUD/yr)' # specify header\n",
    "# au_bonds_dset.sort_values(column, ascending=False).reset_index(drop=True)"
   ]
  },
  {
   "cell_type": "markdown",
   "id": "1befdbc9-0e8e-4a2e-b01b-9d7358b56986",
   "metadata": {},
   "source": [
    "## CURVE SKETCH \n",
    "\n",
    "Sketch dataframe column(s) against eTBs (bonds).\n",
    "\n",
    "#### LIBRARY IMPORT"
   ]
  },
  {
   "cell_type": "code",
   "execution_count": 7,
   "id": "16a19fbd-3d6d-4c27-94a0-b5a877152159",
   "metadata": {},
   "outputs": [],
   "source": [
    "# from bond_sketch import sketch, sketch_multiple"
   ]
  },
  {
   "cell_type": "markdown",
   "id": "521a8ea4-a181-41b6-89db-e6846c125268",
   "metadata": {},
   "source": [
    "#### SKETCH WITH REGRESSION"
   ]
  },
  {
   "cell_type": "code",
   "execution_count": 8,
   "id": "9dbc2e72-5be6-42c6-b1ec-c7966ec19ffd",
   "metadata": {},
   "outputs": [],
   "source": [
    "# column_to_sketch = 'bond_value (AUD/yr)' # change as desired\n",
    "# sketch(dset=au_bonds_dset, column=column_to_sketch)"
   ]
  },
  {
   "cell_type": "markdown",
   "id": "2cd30e05-eab9-4721-8d4f-ada2b3408c68",
   "metadata": {},
   "source": [
    "#### SKETCH MULTIPLE COLUMNS"
   ]
  },
  {
   "cell_type": "code",
   "execution_count": 9,
   "id": "1c9fc749-df06-4019-ab72-9f9b3389e80a",
   "metadata": {},
   "outputs": [],
   "source": [
    "# columns_to_sketch = [\n",
    "#         'bond_yield (%/yr)',\n",
    "#         'bond_value_yield (%/yr)'\n",
    "#     ]\n",
    "# sketch_multiple(au_bonds_dset, columns_to_sketch)"
   ]
  },
  {
   "cell_type": "code",
   "execution_count": null,
   "id": "6191f29c-a275-4c6e-ae52-37b8cc3d0fe0",
   "metadata": {},
   "outputs": [],
   "source": []
  }
 ],
 "metadata": {
  "kernelspec": {
   "display_name": "Python 3 (ipykernel)",
   "language": "python",
   "name": "python3"
  },
  "language_info": {
   "codemirror_mode": {
    "name": "ipython",
    "version": 3
   },
   "file_extension": ".py",
   "mimetype": "text/x-python",
   "name": "python",
   "nbconvert_exporter": "python",
   "pygments_lexer": "ipython3",
   "version": "3.9.13"
  }
 },
 "nbformat": 4,
 "nbformat_minor": 5
}
