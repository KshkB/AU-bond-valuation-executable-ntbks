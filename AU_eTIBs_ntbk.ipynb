{
 "cells": [
  {
   "cell_type": "markdown",
   "id": "fb754017-84fe-42aa-9277-e4a10f94c6b7",
   "metadata": {},
   "source": [
    "# EXCHANGE TRADED, INFLATION PROTECTED AU GOV BONDS\n",
    "\n",
    "Inflation as measured by the *consumer price index*.\n",
    "\n",
    "## LIBRARY IMPORTS"
   ]
  },
  {
   "cell_type": "code",
   "execution_count": 1,
   "id": "511a80d0-fb86-4fb6-ae35-dbc73394e336",
   "metadata": {},
   "outputs": [],
   "source": [
    "# from functions import (\n",
    "#     etibList_AU, \n",
    "#     etibList_AU_dataset,\n",
    "#     etib_forcasting\n",
    "# )"
   ]
  },
  {
   "cell_type": "markdown",
   "id": "eb5adec7-e2b3-4754-9298-d090b7ae0d2b",
   "metadata": {},
   "source": [
    "## DATAFRAME OF CURRENTLY AVAILABLE ETIBS"
   ]
  },
  {
   "cell_type": "code",
   "execution_count": 2,
   "id": "03000808-add6-4276-96af-cb160abcfeab",
   "metadata": {},
   "outputs": [],
   "source": [
    "# etib_list = etibList_AU()\n",
    "# etib_list"
   ]
  },
  {
   "cell_type": "markdown",
   "id": "d7ca770b-76c8-46ff-b999-cadca6797288",
   "metadata": {},
   "source": [
    "## DATAFRAME WITH VALUES FIELDS FILLED\n",
    "\n",
    "#### HEADERS\n",
    "\n",
    "- face value (current quarter); \n",
    "- current yield (percent/yr);\n",
    "- cpi value returns (per year);\n",
    "- cpi value yield (percent/yr);\n",
    "- cpi forward value returns (AUD per year);\n",
    "- cpi forward value yield (percent/yr);\n",
    "- forward face value (AUD per year).\n",
    "\n",
    "Run to (re)generate with current prices."
   ]
  },
  {
   "cell_type": "code",
   "execution_count": 3,
   "id": "c660f133-5fe8-4071-9b4c-bd4a94844e11",
   "metadata": {},
   "outputs": [],
   "source": [
    "# etib_dset = etibList_AU_dataset()"
   ]
  },
  {
   "cell_type": "markdown",
   "id": "b4681fcc-6318-402a-be96-69aec47f5d4b",
   "metadata": {},
   "source": [
    "#### DISPLAY"
   ]
  },
  {
   "cell_type": "code",
   "execution_count": 4,
   "id": "b031dffd-aeec-4bd9-b3ab-c6e186185734",
   "metadata": {},
   "outputs": [],
   "source": [
    "# etib_dset"
   ]
  },
  {
   "cell_type": "markdown",
   "id": "9c16b98b-480b-4823-92a9-32af9c7a5dbf",
   "metadata": {},
   "source": [
    "## DATAFRAME WITH VALUE YIELD PROJECTIONS\n",
    "\n",
    "Pass list of *annualised* lifetime inflations. "
   ]
  },
  {
   "cell_type": "code",
   "execution_count": 5,
   "id": "6d725e5c-273e-4ef5-afa2-fae718c4b1cf",
   "metadata": {},
   "outputs": [],
   "source": [
    "# # adjust/change as desired\n",
    "\n",
    "# lifetime_inflations = [\n",
    "#     6, 7, 8, 9\n",
    "# ] "
   ]
  },
  {
   "cell_type": "markdown",
   "id": "2bd6a4b6-3898-4b3f-acc7-d94099d720b1",
   "metadata": {},
   "source": [
    "Run to (re)generate with current prices."
   ]
  },
  {
   "cell_type": "code",
   "execution_count": 6,
   "id": "4d2ed633-d208-4a4f-963a-6a44b82d5aa2",
   "metadata": {},
   "outputs": [],
   "source": [
    "# forecast = etib_forcasting(lifetime_inflations)"
   ]
  },
  {
   "cell_type": "markdown",
   "id": "f289a43e-8ee7-48c7-a9be-e3f21cbba8f0",
   "metadata": {},
   "source": [
    "#### DISPLAY"
   ]
  },
  {
   "cell_type": "code",
   "execution_count": 7,
   "id": "f9f8e8e9-6ff9-48bd-8e85-2996d2d76406",
   "metadata": {},
   "outputs": [],
   "source": [
    "# forecast"
   ]
  },
  {
   "cell_type": "markdown",
   "id": "bcd996f7-0a81-47d9-b809-8d335470aa5d",
   "metadata": {},
   "source": [
    "## CURVE SKETCH\n",
    "\n",
    "#### LIBRARY IMPORT"
   ]
  },
  {
   "cell_type": "code",
   "execution_count": 8,
   "id": "c52ddc7c-b73b-4bb3-a6a3-6105e8ca8863",
   "metadata": {},
   "outputs": [],
   "source": [
    "# from bond_sketch import sketch, sketch_multiple"
   ]
  },
  {
   "cell_type": "markdown",
   "id": "aaecb5f0-685b-4267-bf06-002f3c937942",
   "metadata": {},
   "source": [
    "#### SKETCH WITH REGRESSION"
   ]
  },
  {
   "cell_type": "code",
   "execution_count": 9,
   "id": "7066dd76-f612-4eee-9841-b1af6360518b",
   "metadata": {},
   "outputs": [],
   "source": [
    "# column_to_sketch = 'value_at_6 (AUD/yr)' # change as desired\n",
    "# sketch(dset=forecast, column=column_to_sketch)"
   ]
  },
  {
   "cell_type": "markdown",
   "id": "8b754a53-8214-42a5-8dff-f90cb7b02200",
   "metadata": {},
   "source": [
    "#### SKETCH MULTIPLE COLUMNS"
   ]
  },
  {
   "cell_type": "code",
   "execution_count": 10,
   "id": "19cbabb1-50c4-42c3-82e9-5eb874b706b6",
   "metadata": {},
   "outputs": [],
   "source": [
    "# columns_to_sketch = [\n",
    "#         'value_at_7 (AUD/yr)',\n",
    "#         'value_at_8 (AUD/yr)',\n",
    "#         'value_at_9 (AUD/yr)'\n",
    "#     ]\n",
    "# sketch_multiple(forecast, columns_to_sketch)"
   ]
  }
 ],
 "metadata": {
  "kernelspec": {
   "display_name": "Python 3 (ipykernel)",
   "language": "python",
   "name": "python3"
  },
  "language_info": {
   "codemirror_mode": {
    "name": "ipython",
    "version": 3
   },
   "file_extension": ".py",
   "mimetype": "text/x-python",
   "name": "python",
   "nbconvert_exporter": "python",
   "pygments_lexer": "ipython3",
   "version": "3.9.13"
  }
 },
 "nbformat": 4,
 "nbformat_minor": 5
}
